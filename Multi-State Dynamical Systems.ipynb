{
 "cells": [
  {
   "cell_type": "code",
   "execution_count": null,
   "metadata": {},
   "outputs": [],
   "source": [
    "import numpy as np \n",
    "import matplotlib.pyplot as pyplot"
   ]
  },
  {
   "cell_type": "code",
   "execution_count": 3,
   "metadata": {
    "deletable": false,
    "nbgrader": {
     "cell_type": "code",
     "checksum": "3fa726e3975c7607ded6b86bb6f56ec8",
     "grade": false,
     "grade_id": "cell-aa041a62adb61ef2",
     "locked": false,
     "schema_version": 3,
     "solution": true,
     "task": false
    }
   },
   "outputs": [],
   "source": [
    "def sigmoid_kernel(x,y,gamma,r): \n",
    "    \"\"\"\n",
    "    x : (1,n) np.matrix \n",
    "    y : (1,n) np.matrix\n",
    "    gamma : float parameter\n",
    "    r : float parameter\n",
    "    \"\"\"\n",
    "\n",
    "    k = float(np.tanh(gamma*x*(np.transpose(y)) + r))\n",
    "    \n",
    "    return(k)"
   ]
  },
  {
   "cell_type": "code",
   "execution_count": null,
   "metadata": {},
   "outputs": [],
   "source": [
    "def squared_iso(x,y,sigma,l):\n",
    "    \"\"\" \n",
    "    x : (1,n) np.matrix \n",
    "    y : (1,n) np.matrix\n",
    "    sigma : float parameter\n",
    "    l : float parameter\n",
    "    \"\"\"\n",
    "    \n",
    "    n = x.size\n",
    "    X = np.matrix(np.zeros(n*n)).reshape(n,n)\n",
    "    \n",
    "    for i in range(0,n):\n",
    "        for j in range(0,n):\n",
    "            X[i,j] = float(sigma*np.exp((-1/(2*l**2))*(x[0,i] - y[0,j])**2))\n",
    "    \n",
    "    return(X)"
   ]
  },
  {
   "cell_type": "code",
   "execution_count": null,
   "metadata": {},
   "outputs": [],
   "source": [
    "def reshape_collector(X): \n",
    "    \"\"\" \n",
    "    X : (1,n) np.matrix \n",
    "    \"\"\"\n",
    "    \n",
    "    result = []\n",
    "    for i in range (1, (X.size)+1):\n",
    "        if X.size % i == 0:\n",
    "            a = X.size//i\n",
    "            result.append(X.reshape(i,a))\n",
    "\n",
    "    return(result)"
   ]
  },
  {
   "cell_type": "code",
   "execution_count": null,
   "metadata": {},
   "outputs": [],
   "source": [
    "class FirstOrder_DDS:\n",
    "    \n",
    "    def __init__(self,f,ic):\n",
    "        self.f = f\n",
    "        self.history = np.zeros(200)\n",
    "        self.history[0] = ic\n",
    "        self.ic = ic \n",
    "        self.step = 0\n",
    "        self.current = ic \n",
    "\n",
    "\n",
    "    def step_forward(self):\n",
    "        \n",
    "        if self.step == len(self.history) - 1:\n",
    "            self.history = np.append(self.history,np.zeros(200))\n",
    "            \n",
    "        old = self.history[self.step]\n",
    "        new = self.f(old)\n",
    "        self.step += 1\n",
    "        self.history[self.step] = new\n",
    "        self.current = new\n",
    "        \n",
    "        \n",
    "\n",
    "    def plot(self,xlab = \"Time\",ylab = \"Output\"):\n",
    "        time_steps = range(0,self.step)\n",
    "        output = self.history[ :self.step ]\n",
    "        pyplot.plot(time_steps,output)\n",
    "        pyplot.xlabel(xlab)\n",
    "        pyplot.ylabel(ylab)\n"
   ]
  },
  {
   "cell_type": "code",
   "execution_count": null,
   "metadata": {},
   "outputs": [],
   "source": [
    "def cats(c):\n",
    "    new_value = 0\n",
    "    \n",
    "    new_value = c + 8\n",
    "    \n",
    "    return(new_value)"
   ]
  },
  {
   "cell_type": "code",
   "execution_count": null,
   "metadata": {},
   "outputs": [],
   "source": [
    "def value_cat():\n",
    "   \n",
    "    answer = 0\n",
    " \n",
    "    ic = 3\n",
    "    time = 0\n",
    "    new_value = ic + 8\n",
    "\n",
    "    while new_value <= 27:\n",
    "        time += 1\n",
    "        new_value += 8\n",
    "        \n",
    "    answer = time\n",
    "    \n",
    "    return(answer)"
   ]
  },
  {
   "cell_type": "code",
   "execution_count": null,
   "metadata": {},
   "outputs": [],
   "source": [
    "def cat_tracker(year):\n",
    "\n",
    "    answer = 0\n",
    "    \n",
    "\n",
    "    num_of_cats = FirstOrder_DDS(f = breed_cats, ic = 8)\n",
    "    \n",
    "    for i in range(0,100):\n",
    "        num_of_cats.step_forward()\n",
    "        \n",
    "    answer = list(num_of_cats.history[1:year])\n",
    "    \n",
    "    return(answer)"
   ]
  },
  {
   "cell_type": "code",
   "execution_count": null,
   "metadata": {},
   "outputs": [],
   "source": [
    "def rrsp_value(v):\n",
    "   \n",
    "    new_value = 0\n",
    "\n",
    "    new_value = 1.05*v + 40\n",
    "    \n",
    "    return(new_value)"
   ]
  },
  {
   "cell_type": "code",
   "execution_count": null,
   "metadata": {},
   "outputs": [],
   "source": [
    "def saved():\n",
    "   \n",
    "    answer = 0\n",
    "   \n",
    "    v = 400\n",
    "    time = 0\n",
    "    new_value = v\n",
    "    \n",
    "    while new_value <= 1000:\n",
    "        time += 1\n",
    "        new_value = 1.05*(new_value) + 40\n",
    "    \n",
    "    answer = time\n",
    "    return(answer)"
   ]
  },
  {
   "cell_type": "code",
   "execution_count": null,
   "metadata": {},
   "outputs": [],
   "source": [
    "def value_projection(year): \n",
    " \n",
    "    answer = 0\n",
    "  \n",
    "\n",
    "    RRSP = FirstOrder_DDS(f = rrsp_value, ic = 100)\n",
    "    \n",
    "    for i in range(0,100):\n",
    "        RRSP.step_forward()\n",
    "        \n",
    "    answer = list(RRSP.history[1:year])\n",
    "        \n",
    "    return(answer)"
   ]
  },
  {
   "cell_type": "code",
   "execution_count": null,
   "metadata": {},
   "outputs": [],
   "source": [
    "class MultiDDS:\n",
    "\n",
    "    def __init__(self,f,ic):\n",
    "        \n",
    "        if type(ic) != np.matrix:\n",
    "            raise Exception(\"initial conditions not of np.matrix type\")\n",
    "\n",
    "        if ic.shape[0] == 1:\n",
    "            raise Exception(\"inital conditions need to have vertical matrix vectors\")\n",
    "\n",
    "\n",
    "        p = ic.shape[0]\n",
    "     \n",
    "        self.ic = ic \n",
    "        self.p = p \n",
    "\n",
    "      \n",
    "        self.history = np.matrix(np.zeros((p,int(1e4))))\n",
    "        self.history[:,0] = ic \n",
    "        self.f = f \n",
    "        self.step = 0\n",
    "        self.current = ic\n",
    "\n",
    "\n",
    "    def step_forward(self):\n",
    "        new = self.f(self.history[:,self.step])\n",
    "        self.step += 1 \n",
    "        self.history[:,self.step] = new \n",
    "        self.current = new \n",
    "\n",
    "\n",
    "    def plot(self,position = 0,xlab = \"Input\",ylab = \"Output\"):\n",
    "        steps = range(0,self.step)\n",
    "        pyplot.plot(steps, self.history[position,:self.step].transpose())\n",
    "        pyplot.xlabel(xlab)\n",
    "        pyplot.ylabel(ylab)\n"
   ]
  },
  {
   "cell_type": "code",
   "execution_count": null,
   "metadata": {},
   "outputs": [],
   "source": [
    "def animal(x): \n",
    "  \n",
    "    A = np.matrix([[-0.03, 0.06],\n",
    "                   [-0.06, 1.03]])\n",
    "    \n",
    "    return(A*x)"
   ]
  },
  {
   "cell_type": "code",
   "execution_count": null,
   "metadata": {},
   "outputs": [],
   "source": [
    "def population():\n",
    "    \n",
    "    answer = 0\n",
    " \n",
    "    ic = np.matrix([10.004, 20.005]).reshape(2,1)\n",
    "    pop = MultiDDS(animal, ic)\n",
    "    \n",
    "    for i in range(0,8):\n",
    "        pop.step_forward()\n",
    "        \n",
    "    answer = pop.current\n",
    "    \n",
    "    answer = round(pop.current[1,0], 3)\n",
    "    \n",
    "    return(answer)"
   ]
  },
  {
   "cell_type": "code",
   "execution_count": null,
   "metadata": {},
   "outputs": [],
   "source": [
    "def pop2(x):\n",
    "   \n",
    "    A = np.matrix([[-0.03, 0.06, 25],\n",
    "                   [-0.06, 1.03, 0],\n",
    "                   [0, 0, 1]]).reshape(3,3)\n",
    "    \n",
    "    return(A*x)"
   ]
  },
  {
   "cell_type": "code",
   "execution_count": null,
   "metadata": {},
   "outputs": [],
   "source": [
    "def gdp(x): \n",
    "\n",
    "    A = np.matrix([[1.01, 0.02, 0.01, 0.01, 0.01],\n",
    "                   [0.03, 1.04, 0.01, 0.01, -0.01],\n",
    "                   [0.01, 0.02, 1.00, -0.03, 0.01],\n",
    "                   [0.03, 0.03, -0.03, 1.02, 0.03],\n",
    "                   [0.01, 0.02, 0.01, 0.02, 1.01]]).reshape(5,5)\n",
    "    \n",
    "    b = np.matrix([0.01, 0.03, -0.02, 0.02, 0.01]).reshape(5,1)  \n",
    "    \n",
    "    return(A*x + b)"
   ]
  },
  {
   "cell_type": "code",
   "execution_count": null,
   "metadata": {},
   "outputs": [],
   "source": [
    "def gdp_tariff(x): \n",
    "        \n",
    "    A = np.matrix([[1.01, 0.02, 0.01, 0.01, 0.01],\n",
    "                   [0.03, 1.04, 0.01, 0.01, -0.01],\n",
    "                   [0.01, 0.02, 1.00, -0.03, 0.01],\n",
    "                   [0.03, 0.03, -0.03, 1.02, 0.03],\n",
    "                   [0.01, 0.02, 0.01, 0.02, 1.01]]).reshape(5,5)\n",
    "    \n",
    "    new_A = A - (0.03*np.ones(shape = [5,5]))\n",
    "    \n",
    "    b = np.matrix([0.01, 0.03, -0.02, 0.02, 0.01]).reshape(5,1)\n",
    "    \n",
    "    return(new_A*x + b)"
   ]
  }
 ],
 "metadata": {
  "kernelspec": {
   "display_name": "Python 3",
   "language": "python",
   "name": "python3"
  },
  "language_info": {
   "codemirror_mode": {
    "name": "ipython",
    "version": 3
   },
   "file_extension": ".py",
   "mimetype": "text/x-python",
   "name": "python",
   "nbconvert_exporter": "python",
   "pygments_lexer": "ipython3",
   "version": "3.8.3"
  }
 },
 "nbformat": 4,
 "nbformat_minor": 4
}
